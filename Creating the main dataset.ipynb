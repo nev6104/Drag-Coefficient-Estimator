{
 "cells": [
  {
   "cell_type": "code",
   "execution_count": 1,
   "id": "3389d092-1ea3-4c61-8c1b-d9acf700dd70",
   "metadata": {},
   "outputs": [
    {
     "name": "stdout",
     "output_type": "stream",
     "text": [
      "Filenames have been successfully saved to filenames.txt\n"
     ]
    }
   ],
   "source": [
    "import os\n",
    "\n",
    "def save_filenames_to_text(folder_path, output_file):\n",
    "    \"\"\"\n",
    "    Parses through a folder and saves all filenames to a text file.\n",
    "\n",
    "    Parameters:\n",
    "    folder_path (str): The path to the folder to be parsed.\n",
    "    output_file (str): The path to the output text file where filenames will be saved.\n",
    "    \"\"\"\n",
    "    try:\n",
    "        # List all files in the given folder\n",
    "        filenames = os.listdir(folder_path)\n",
    "\n",
    "        # Open the output file in write mode\n",
    "        with open(output_file, 'w') as file:\n",
    "            for filename in filenames:\n",
    "                # Write each filename to the text file\n",
    "                file.write(filename + '\\n')\n",
    "        \n",
    "        print(f\"Filenames have been successfully saved to {output_file}\")\n",
    "\n",
    "    except Exception as e:\n",
    "        print(f\"An error occurred: {e}\")\n",
    "\n",
    "# Example usage\n",
    "folder_path = 'edgelefts'  # Replace with the path to your folder\n",
    "output_file = 'filenames.txt'        # Replace with the desired output text file name\n",
    "\n",
    "save_filenames_to_text(folder_path, output_file)\n"
   ]
  },
  {
   "cell_type": "code",
   "execution_count": null,
   "id": "8c3469b4-813c-4daa-8e22-5405287b536b",
   "metadata": {},
   "outputs": [],
   "source": []
  }
 ],
 "metadata": {
  "kernelspec": {
   "display_name": "Python 3 (ipykernel)",
   "language": "python",
   "name": "python3"
  },
  "language_info": {
   "codemirror_mode": {
    "name": "ipython",
    "version": 3
   },
   "file_extension": ".py",
   "mimetype": "text/x-python",
   "name": "python",
   "nbconvert_exporter": "python",
   "pygments_lexer": "ipython3",
   "version": "3.12.0"
  }
 },
 "nbformat": 4,
 "nbformat_minor": 5
}
